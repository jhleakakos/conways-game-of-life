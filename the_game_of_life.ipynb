{
 "cells": [
  {
   "cell_type": "code",
   "execution_count": 78,
   "id": "6faece17",
   "metadata": {
    "ExecuteTime": {
     "end_time": "2023-11-20T07:25:01.841334Z",
     "start_time": "2023-11-20T07:25:01.831940Z"
    }
   },
   "outputs": [],
   "source": [
    "class GameOfLife(object):  \n",
    "    \n",
    "    def __init__(self, x_dim, y_dim):\n",
    "        # Initialize a 2D list with dimensions x_dim by y_dim filled with zeros.\n",
    "        self.grid = [[0 for col in range(x_dim)] for row in range(y_dim)]\n",
    "    \n",
    "    def get_grid(self):\n",
    "        # Implement a getter method for your grid.\n",
    "        return self.grid\n",
    "\n",
    "    def print_grid(self):\n",
    "        # Implement a method to print out your grid in a human-readable format.\n",
    "        g = self.get_grid()\n",
    "        no_cols = len(g[0])\n",
    "        for row in g:\n",
    "            print(*row, sep=\" | \")\n",
    "            print(f\"{'---- ' * (no_cols-1)}\")\n",
    "\n",
    "    def populate_grid(self, coord):\n",
    "        # Given a list of 2D coordinates (represented as tuples/lists with 2 elements each),\n",
    "        # set the corresponding elements in your grid to 1.\n",
    "        for pair in coord:\n",
    "            x = pair[0] \n",
    "            y = pair[1]\n",
    "            self.grid[x][y] = 1\n",
    "\n",
    "    def make_step(self):\n",
    "        # Implement the logic to update the game state according to the rules of Conway's Game of Life.\n",
    "        pass\n",
    "\n",
    "    def make_n_steps(self, n):\n",
    "        # Implement a method that applies the make_step method n times.\n",
    "        pass\n",
    "\n",
    "    def draw_grid(self):\n",
    "        # Draw the current state of the grid.\n",
    "        pass"
   ]
  },
  {
   "cell_type": "code",
   "execution_count": 82,
   "outputs": [
    {
     "name": "stdout",
     "output_type": "stream",
     "text": [
      "0 | 0 | 0 | 0 | 0\n",
      "---- ---- ---- ---- \n",
      "1 | 0 | 0 | 0 | 0\n",
      "---- ---- ---- ---- \n",
      "0 | 0 | 0 | 1 | 0\n",
      "---- ---- ---- ---- \n",
      "0 | 0 | 1 | 1 | 0\n",
      "---- ---- ---- ---- \n",
      "0 | 0 | 0 | 0 | 1\n",
      "---- ---- ---- ---- \n",
      "0 | 0 | 0 | 0 | 0\n",
      "---- ---- ---- ---- \n"
     ]
    }
   ],
   "source": [
    "game = GameOfLife(5, 6)\n",
    "game.populate_grid([\n",
    "    (2,3)\n",
    "    , (1,0)\n",
    "    , (3,3)\n",
    "    , (3,2)\n",
    "    , (4,4)\n",
    "])\n",
    "game.print_grid()"
   ],
   "metadata": {
    "collapsed": false,
    "ExecuteTime": {
     "end_time": "2023-11-20T07:26:28.622567Z",
     "start_time": "2023-11-20T07:26:28.617261Z"
    }
   },
   "id": "acd61c13bc006e9"
  }
 ],
 "metadata": {
  "kernelspec": {
   "display_name": "Python 3 (ipykernel)",
   "language": "python",
   "name": "python3"
  },
  "language_info": {
   "codemirror_mode": {
    "name": "ipython",
    "version": 3
   },
   "file_extension": ".py",
   "mimetype": "text/x-python",
   "name": "python",
   "nbconvert_exporter": "python",
   "pygments_lexer": "ipython3",
   "version": "3.8.8"
  }
 },
 "nbformat": 4,
 "nbformat_minor": 5
}
