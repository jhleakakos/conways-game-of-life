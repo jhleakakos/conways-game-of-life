{
 "cells": [
  {
   "cell_type": "code",
   "execution_count": 178,
   "id": "6faece17",
   "metadata": {
    "ExecuteTime": {
     "end_time": "2023-11-20T08:40:48.346691Z",
     "start_time": "2023-11-20T08:40:48.343271Z"
    }
   },
   "outputs": [],
   "source": [
    "class Cell:\n",
    "    \n",
    "    def __init__(self):\n",
    "        # 0 for not alive\n",
    "        # 1 for alive\n",
    "        self.is_alive = 0\n",
    "        \n",
    "    def get_is_alive(self):\n",
    "        return self.is_alive\n",
    "    \n",
    "    def toggle_is_alive(self):\n",
    "        self.is_alive = 1 if self.is_alive == 0 else 0 \n",
    "        \n",
    "    def set_not_alive(self):\n",
    "        self.is_alive = 0\n",
    "        \n",
    "    def set_alive(self):\n",
    "        self.is_alive = 1\n",
    "        \n",
    "    def __str__(self):\n",
    "        return str(self.get_is_alive())\n",
    "    \n",
    "\n",
    "class GameOfLife(object):  \n",
    "    \n",
    "    def __init__(self, x_dim, y_dim):\n",
    "        # Initialize a 2D list with dimensions x_dim by y_dim filled with zeros.\n",
    "        self.no_cols = x_dim\n",
    "        self.no_rows = y_dim\n",
    "        self.grid = [[0 for col_num in range(x_dim)] for row_num in range(y_dim)]\n",
    "    \n",
    "    def get_grid(self):\n",
    "        # Implement a getter method for your grid.\n",
    "        return self.grid\n",
    "\n",
    "    def print_grid(self):\n",
    "        # Implement a method to print out your grid in a human-readable format.\n",
    "        g = self.get_grid()\n",
    "        for row_num in g:\n",
    "            print(*row_num, sep=\" | \")\n",
    "            print(f\"{'---- ' * (self.no_cols-1)}\")\n",
    "\n",
    "    def populate_grid(self, coord):\n",
    "        # Given a list of 2D coordinates (represented as tuples/lists with 2 elements each),\n",
    "        # set the corresponding elements in your grid to 1.\n",
    "        for pair in coord:\n",
    "            x = pair[0] \n",
    "            y = pair[1]\n",
    "            self.grid[x][y] = 1\n",
    "            \n",
    "    def make_step(self):\n",
    "        # Implement the logic to update the game state according to the rules of Conway's Game of Life.\n",
    "        g = self.get_grid()\n",
    "        \n",
    "        # We'll copy the results of turning alive or dead into a separate list before overwriting the game state\n",
    "        next_state = [[None for col_num in range(self.no_cols)] for row_num in range(self.no_rows)]\n",
    "        \n",
    "        # This checks a grid around a cell starting directly to the left and moving clockwise.\n",
    "        # This also returns 0 if the index during that 8-direction check is out of bounds for the grid size.\n",
    "        for row_num in range(self.no_rows):\n",
    "            for col_num in range(self.no_cols):\n",
    "                no_alive_neighbors = sum([\n",
    "                    g[row_num][col_num-1] if 0 <= row_num < self.no_rows and 0 <= col_num-1 < self.no_cols else 0,\n",
    "                    g[row_num-1][col_num-1] if 0 <= row_num-1 < self.no_rows and 0 <= col_num-1 < self.no_cols else 0,\n",
    "                    g[row_num-1][col_num] if 0 <= row_num-1 < self.no_rows and 0 <= col_num < self.no_cols else 0,\n",
    "                    g[row_num-1][col_num+1] if 0 <= row_num-1 < self.no_rows and 0 <= col_num+1 < self.no_cols else 0,\n",
    "                    g[row_num][col_num+1] if 0 <= row_num < self.no_rows and 0 <= col_num+1 < self.no_cols else 0,\n",
    "                    g[row_num+1][col_num+1] if 0 <= row_num+1 < self.no_rows and 0 <= col_num+1 < self.no_cols else 0,\n",
    "                    g[row_num+1][col_num] if 0 <= row_num+1 < self.no_rows and 0 <= col_num < self.no_cols else 0,\n",
    "                    g[row_num+1][col_num-1] if 0 <= row_num+1 < self.no_rows and 0 <= col_num-1 < self.no_cols else 0\n",
    "                ])\n",
    "\n",
    "                # Logic for turning alive and not alive\n",
    "                #\n",
    "                # If cell is alive and has two or three live neighbors, then it survives\n",
    "                #\n",
    "                # If cell is not alive, then it only becomes alive if it has exactly three live neighbors\n",
    "                next_state[row_num][col_num] = 1 if (\n",
    "                        (g[row_num][col_num] == 1 and no_alive_neighbors in [2, 3]) \n",
    "                        or (g[row_num][col_num] == 0 and no_alive_neighbors == 3)\n",
    "                ) else 0\n",
    "                    \n",
    "        self.grid = next_state \n",
    "\n",
    "    def make_n_steps(self, n):\n",
    "        # Implement a method that applies the make_step method n times.\n",
    "        pass\n",
    "\n",
    "    def draw_grid(self):\n",
    "        # Draw the current state of the grid.\n",
    "        pass"
   ]
  },
  {
   "cell_type": "code",
   "execution_count": 179,
   "outputs": [
    {
     "name": "stdout",
     "output_type": "stream",
     "text": [
      "0 | 0 | 0 | 0 | 0\n",
      "---- ---- ---- ---- \n",
      "1 | 0 | 0 | 0 | 0\n",
      "---- ---- ---- ---- \n",
      "0 | 0 | 0 | 1 | 0\n",
      "---- ---- ---- ---- \n",
      "0 | 0 | 1 | 1 | 0\n",
      "---- ---- ---- ---- \n",
      "0 | 0 | 0 | 1 | 1\n",
      "---- ---- ---- ---- \n",
      "0 | 0 | 0 | 0 | 0\n",
      "---- ---- ---- ---- \n"
     ]
    }
   ],
   "source": [
    "game = GameOfLife(5, 6)\n",
    "game.populate_grid([\n",
    "    (2,3)\n",
    "    , (1,0)\n",
    "    , (3,3)\n",
    "    , (3,2)\n",
    "    , (4,4)\n",
    "    , (4,3)\n",
    "])\n",
    "game.print_grid()"
   ],
   "metadata": {
    "collapsed": false,
    "ExecuteTime": {
     "end_time": "2023-11-20T08:40:48.774513Z",
     "start_time": "2023-11-20T08:40:48.765026Z"
    }
   },
   "id": "acd61c13bc006e9"
  },
  {
   "cell_type": "code",
   "execution_count": 180,
   "outputs": [
    {
     "name": "stdout",
     "output_type": "stream",
     "text": [
      "0 | 0 | 0 | 0 | 0\n",
      "---- ---- ---- ---- \n",
      "0 | 0 | 0 | 0 | 0\n",
      "---- ---- ---- ---- \n",
      "0 | 0 | 1 | 1 | 0\n",
      "---- ---- ---- ---- \n",
      "0 | 0 | 1 | 0 | 0\n",
      "---- ---- ---- ---- \n",
      "0 | 0 | 1 | 1 | 1\n",
      "---- ---- ---- ---- \n",
      "0 | 0 | 0 | 0 | 0\n",
      "---- ---- ---- ---- \n"
     ]
    }
   ],
   "source": [
    "game.make_step()\n",
    "game.print_grid()"
   ],
   "metadata": {
    "collapsed": false,
    "ExecuteTime": {
     "end_time": "2023-11-20T08:40:49.292407Z",
     "start_time": "2023-11-20T08:40:49.286397Z"
    }
   },
   "id": "4ed59c63c5a859fe"
  },
  {
   "cell_type": "code",
   "execution_count": 181,
   "outputs": [
    {
     "name": "stdout",
     "output_type": "stream",
     "text": [
      "0 | 0 | 0 | 0 | 0\n",
      "---- ---- ---- ---- \n",
      "0 | 0 | 0 | 0 | 0\n",
      "---- ---- ---- ---- \n",
      "0 | 0 | 1 | 1 | 0\n",
      "---- ---- ---- ---- \n",
      "0 | 1 | 0 | 0 | 1\n",
      "---- ---- ---- ---- \n",
      "0 | 0 | 1 | 1 | 0\n",
      "---- ---- ---- ---- \n",
      "0 | 0 | 0 | 1 | 0\n",
      "---- ---- ---- ---- \n"
     ]
    }
   ],
   "source": [
    "game.make_step()\n",
    "game.print_grid()"
   ],
   "metadata": {
    "collapsed": false,
    "ExecuteTime": {
     "end_time": "2023-11-20T08:41:07.625311Z",
     "start_time": "2023-11-20T08:41:07.619988Z"
    }
   },
   "id": "40b0f758d669da9d"
  }
 ],
 "metadata": {
  "kernelspec": {
   "display_name": "Python 3 (ipykernel)",
   "language": "python",
   "name": "python3"
  },
  "language_info": {
   "codemirror_mode": {
    "name": "ipython",
    "version": 3
   },
   "file_extension": ".py",
   "mimetype": "text/x-python",
   "name": "python",
   "nbconvert_exporter": "python",
   "pygments_lexer": "ipython3",
   "version": "3.8.8"
  }
 },
 "nbformat": 4,
 "nbformat_minor": 5
}
